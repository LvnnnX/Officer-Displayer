{
 "cells": [
  {
   "cell_type": "code",
   "execution_count": 85,
   "metadata": {},
   "outputs": [],
   "source": [
    "import pandas as pd\n",
    "import numpy as np\n",
    "from pathlib import Path\n",
    "import datetime as dt\n",
    "import re\n",
    "PATH = Path().parent\n",
    "IMAGEDIR = PATH/'static'/'images'"
   ]
  },
  {
   "cell_type": "code",
   "execution_count": 89,
   "metadata": {},
   "outputs": [
    {
     "name": "stdout",
     "output_type": "stream",
     "text": [
      "static\\images\\BrianEkoPermadi.jpg\n"
     ]
    }
   ],
   "source": [
    "files = IMAGEDIR.glob('BrianEkoPermadi.*')\n",
    "for i in files:\n",
    "    print(i)\n",
    "    break"
   ]
  },
  {
   "cell_type": "code",
   "execution_count": 91,
   "metadata": {},
   "outputs": [
    {
     "data": {
      "text/html": [
       "<div>\n",
       "<style scoped>\n",
       "    .dataframe tbody tr th:only-of-type {\n",
       "        vertical-align: middle;\n",
       "    }\n",
       "\n",
       "    .dataframe tbody tr th {\n",
       "        vertical-align: top;\n",
       "    }\n",
       "\n",
       "    .dataframe thead th {\n",
       "        text-align: right;\n",
       "    }\n",
       "</style>\n",
       "<table border=\"1\" class=\"dataframe\">\n",
       "  <thead>\n",
       "    <tr style=\"text-align: right;\">\n",
       "      <th></th>\n",
       "      <th>Unnamed: 0</th>\n",
       "      <th>Nama</th>\n",
       "      <th>Nama File</th>\n",
       "      <th>NIP</th>\n",
       "    </tr>\n",
       "  </thead>\n",
       "  <tbody>\n",
       "    <tr>\n",
       "      <th>0</th>\n",
       "      <td>1</td>\n",
       "      <td>Ni Wayan Dertiari</td>\n",
       "      <td>NiWayanDertiari</td>\n",
       "      <td>'196912241990032001</td>\n",
       "    </tr>\n",
       "    <tr>\n",
       "      <th>1</th>\n",
       "      <td>2</td>\n",
       "      <td>Tirtha Wijaya,  SP</td>\n",
       "      <td>TirthaWijaya</td>\n",
       "      <td>'197312051995031001</td>\n",
       "    </tr>\n",
       "    <tr>\n",
       "      <th>2</th>\n",
       "      <td>3</td>\n",
       "      <td>Ni Wayan Budhi Anggraeni,  ST.</td>\n",
       "      <td>NiWayanBudhiAnggraeni</td>\n",
       "      <td>'197804042008012032</td>\n",
       "    </tr>\n",
       "    <tr>\n",
       "      <th>3</th>\n",
       "      <td>4</td>\n",
       "      <td>Ni Putu Lia Cahyani,  SP</td>\n",
       "      <td>NiPutuLiaCahyani</td>\n",
       "      <td>'198503012007012003</td>\n",
       "    </tr>\n",
       "    <tr>\n",
       "      <th>4</th>\n",
       "      <td>5</td>\n",
       "      <td>I Wayan Wirata,  S.Tr</td>\n",
       "      <td>IWayanWirata</td>\n",
       "      <td>'199111062013121001</td>\n",
       "    </tr>\n",
       "    <tr>\n",
       "      <th>5</th>\n",
       "      <td>6</td>\n",
       "      <td>Kadek Setiya Wati,  S.Tr</td>\n",
       "      <td>KadekSetiyaWati</td>\n",
       "      <td>'198906032010122002</td>\n",
       "    </tr>\n",
       "    <tr>\n",
       "      <th>6</th>\n",
       "      <td>7</td>\n",
       "      <td>Luh Eka Arisanti,  S.Si</td>\n",
       "      <td>LuhEkaArisanti</td>\n",
       "      <td>'198909272010122001</td>\n",
       "    </tr>\n",
       "    <tr>\n",
       "      <th>7</th>\n",
       "      <td>8</td>\n",
       "      <td>Diana Hikmah,  S.Tr</td>\n",
       "      <td>DianaHikmah</td>\n",
       "      <td>'199202132012102001</td>\n",
       "    </tr>\n",
       "    <tr>\n",
       "      <th>8</th>\n",
       "      <td>9</td>\n",
       "      <td>Putu Agus Dedy Permana,  S. Tr</td>\n",
       "      <td>PutuAgusDedyPermana</td>\n",
       "      <td>'199308092013121001</td>\n",
       "    </tr>\n",
       "    <tr>\n",
       "      <th>9</th>\n",
       "      <td>10</td>\n",
       "      <td>I Wayan Gita Giriharta</td>\n",
       "      <td>IWayanGitaGiriharta</td>\n",
       "      <td>'199604012016011001</td>\n",
       "    </tr>\n",
       "    <tr>\n",
       "      <th>10</th>\n",
       "      <td>11</td>\n",
       "      <td>I Gede Agus Mahendra</td>\n",
       "      <td>IGedeAgusMahendra</td>\n",
       "      <td>'199304282013121001</td>\n",
       "    </tr>\n",
       "    <tr>\n",
       "      <th>11</th>\n",
       "      <td>12</td>\n",
       "      <td>I Gusti Ayu Putu Putri Astiduari,  S.Tr</td>\n",
       "      <td>IGustiAyuPutuPutriAstiduari</td>\n",
       "      <td>'199308182013121001</td>\n",
       "    </tr>\n",
       "    <tr>\n",
       "      <th>12</th>\n",
       "      <td>13</td>\n",
       "      <td>Wulan Wandarana,  S.Tr</td>\n",
       "      <td>WulanWandarana</td>\n",
       "      <td>'199505142014112001</td>\n",
       "    </tr>\n",
       "    <tr>\n",
       "      <th>13</th>\n",
       "      <td>14</td>\n",
       "      <td>Brian Eko Permadi</td>\n",
       "      <td>BrianEkoPermadi</td>\n",
       "      <td>'199209232012101001</td>\n",
       "    </tr>\n",
       "    <tr>\n",
       "      <th>14</th>\n",
       "      <td>15</td>\n",
       "      <td>I Made Sudarma Yadnya,  S.Si</td>\n",
       "      <td>IMadeSudarmayadnya</td>\n",
       "      <td>'198103222007011013</td>\n",
       "    </tr>\n",
       "    <tr>\n",
       "      <th>15</th>\n",
       "      <td>16</td>\n",
       "      <td>Kd. Diana Anggariati, SP</td>\n",
       "      <td>KdDianaAnggariati</td>\n",
       "      <td>'196705231990032002</td>\n",
       "    </tr>\n",
       "    <tr>\n",
       "      <th>16</th>\n",
       "      <td>17</td>\n",
       "      <td>A. A. Putu Eka Putra Wirawan</td>\n",
       "      <td>AAPutuEkaPutraWirawan</td>\n",
       "      <td>'198212232006041002</td>\n",
       "    </tr>\n",
       "    <tr>\n",
       "      <th>17</th>\n",
       "      <td>18</td>\n",
       "      <td>Rizki Dwi Saputro, S.Tr</td>\n",
       "      <td>RizkiDwiSaputroSTr</td>\n",
       "      <td>'199308272013121001</td>\n",
       "    </tr>\n",
       "    <tr>\n",
       "      <th>18</th>\n",
       "      <td>19</td>\n",
       "      <td>Diana Siregar</td>\n",
       "      <td>DianaSiregar</td>\n",
       "      <td>'199311112013122001</td>\n",
       "    </tr>\n",
       "  </tbody>\n",
       "</table>\n",
       "</div>"
      ],
      "text/plain": [
       "    Unnamed: 0                                     Nama  \\\n",
       "0            1                        Ni Wayan Dertiari   \n",
       "1            2                       Tirtha Wijaya,  SP   \n",
       "2            3           Ni Wayan Budhi Anggraeni,  ST.   \n",
       "3            4                 Ni Putu Lia Cahyani,  SP   \n",
       "4            5                    I Wayan Wirata,  S.Tr   \n",
       "5            6                 Kadek Setiya Wati,  S.Tr   \n",
       "6            7                  Luh Eka Arisanti,  S.Si   \n",
       "7            8                      Diana Hikmah,  S.Tr   \n",
       "8            9           Putu Agus Dedy Permana,  S. Tr   \n",
       "9           10                   I Wayan Gita Giriharta   \n",
       "10          11                     I Gede Agus Mahendra   \n",
       "11          12  I Gusti Ayu Putu Putri Astiduari,  S.Tr   \n",
       "12          13                   Wulan Wandarana,  S.Tr   \n",
       "13          14                        Brian Eko Permadi   \n",
       "14          15             I Made Sudarma Yadnya,  S.Si   \n",
       "15          16                 Kd. Diana Anggariati, SP   \n",
       "16          17             A. A. Putu Eka Putra Wirawan   \n",
       "17          18                  Rizki Dwi Saputro, S.Tr   \n",
       "18          19                            Diana Siregar   \n",
       "\n",
       "                      Nama File                  NIP  \n",
       "0               NiWayanDertiari  '196912241990032001  \n",
       "1                  TirthaWijaya  '197312051995031001  \n",
       "2         NiWayanBudhiAnggraeni  '197804042008012032  \n",
       "3              NiPutuLiaCahyani  '198503012007012003  \n",
       "4                  IWayanWirata  '199111062013121001  \n",
       "5               KadekSetiyaWati  '198906032010122002  \n",
       "6                LuhEkaArisanti  '198909272010122001  \n",
       "7                   DianaHikmah  '199202132012102001  \n",
       "8           PutuAgusDedyPermana  '199308092013121001  \n",
       "9           IWayanGitaGiriharta  '199604012016011001  \n",
       "10            IGedeAgusMahendra  '199304282013121001  \n",
       "11  IGustiAyuPutuPutriAstiduari  '199308182013121001  \n",
       "12               WulanWandarana  '199505142014112001  \n",
       "13              BrianEkoPermadi  '199209232012101001  \n",
       "14           IMadeSudarmayadnya  '198103222007011013  \n",
       "15            KdDianaAnggariati  '196705231990032002  \n",
       "16        AAPutuEkaPutraWirawan  '198212232006041002  \n",
       "17           RizkiDwiSaputroSTr  '199308272013121001  \n",
       "18                 DianaSiregar  '199311112013122001  "
      ]
     },
     "execution_count": 91,
     "metadata": {},
     "output_type": "execute_result"
    }
   ],
   "source": [
    "df = pd.read_excel('list-pegawai.xlsx')\n",
    "df"
   ]
  },
  {
   "cell_type": "code",
   "execution_count": null,
   "metadata": {},
   "outputs": [],
   "source": []
  },
  {
   "cell_type": "code",
   "execution_count": 88,
   "metadata": {},
   "outputs": [],
   "source": [
    "df.to_excel('list-pegawai.xlsx')"
   ]
  },
  {
   "cell_type": "code",
   "execution_count": 62,
   "metadata": {},
   "outputs": [],
   "source": [
    "def get_df_excel(df_name:str | None = 'list-pegawai - Copy') -> pd.DataFrame:\n",
    "    \"\"\"Get excel for all user\"\"\"\n",
    "    df: pd.DataFrame = pd.read_excel(PATH / f'{df_name}.xlsx', index_col=0)\n",
    "    df['NIP'] = df['NIP'].apply(lambda x: x[1:])\n",
    "    return df.sort_values(ascending=True, by='Nama')\n",
    "\n",
    "def get_all_df(df:pd.DataFrame, with_shift:bool=False) -> list[dict]:\n",
    "    \"\"\"Change dataframe to list of dict\"\"\"\n",
    "    return_df: list[dict] = []\n",
    "    for x in range(len(df)):\n",
    "        return_df.append(df.iloc[x].to_dict())\n",
    "    if with_shift:\n",
    "        return_df = get_non_shift_df(return_df, get_current_shift(df))\n",
    "    return check_valid_photos(return_df)\n",
    "\n",
    "def get_non_shift_df(df:list[dict], data_shift:list[dict]) -> list[dict]:\n",
    "    \"\"\"Get non shift (Pegawai Tidak Sedang Shift) data\"\"\"\n",
    "    return_df:list[dict] = []\n",
    "    for data in df:\n",
    "        if data not in data_shift:\n",
    "            return_df.append(data)\n",
    "    return return_df\n",
    "\n",
    "def get_current_shift(df:pd.DataFrame) -> list[dict]:\n",
    "    \"\"\"get current shift data\"\"\"\n",
    "    now: str = dt.datetime.now().strftime('%H:%M:%S')\n",
    "    hours_now: str = now.split(':')[0]\n",
    "    # df = df[df['Shift'] >= int(hours_now)]\n",
    "    return_df: list[dict] = []\n",
    "    \n",
    "    for i in range(6):\n",
    "        return_df.append(df.iloc[-i].to_dict())\n",
    "    \n",
    "    return return_df\n",
    "\n",
    "def check_valid_photos(df:list[dict]) -> list[dict]:\n",
    "    \"\"\"Validating the photos, if not exist, change to default photo\"\"\"\n",
    "    for x,data in enumerate(df):\n",
    "        try:\n",
    "            valid = str(next(IMAGEDIR.glob(f'{data[\"Nama File\"]}.*')))\n",
    "            df[x]['Nama File'] = valid.split('\\\\')[-1]\n",
    "        except:\n",
    "            df[x]['Nama File'] = 'template_photo.jpeg' \n",
    "    return get_profile_pics(df)\n",
    "\n",
    "def get_profile_pics(df:list[dict]) -> list:\n",
    "    \"\"\"Get profile pics from static/images\"\"\"\n",
    "    for x,data in enumerate(df):\n",
    "        data: str = url_for('static', filename='images/' + data['Nama File'])\n",
    "        df[x]['Profpics'] = data\n",
    "    return df"
   ]
  },
  {
   "cell_type": "code",
   "execution_count": 65,
   "metadata": {},
   "outputs": [
    {
     "ename": "NameError",
     "evalue": "name 'url_for' is not defined",
     "output_type": "error",
     "traceback": [
      "\u001b[1;31m---------------------------------------------------------------------------\u001b[0m",
      "\u001b[1;31mNameError\u001b[0m                                 Traceback (most recent call last)",
      "\u001b[1;32m~\\AppData\\Local\\Temp/ipykernel_17444/3775726290.py\u001b[0m in \u001b[0;36m<module>\u001b[1;34m\u001b[0m\n\u001b[0;32m      1\u001b[0m \u001b[0mdf\u001b[0m \u001b[1;33m=\u001b[0m \u001b[0mget_df_excel\u001b[0m\u001b[1;33m(\u001b[0m\u001b[1;33m)\u001b[0m\u001b[1;33m\u001b[0m\u001b[1;33m\u001b[0m\u001b[0m\n\u001b[1;32m----> 2\u001b[1;33m \u001b[0mdf\u001b[0m \u001b[1;33m=\u001b[0m \u001b[0mget_all_df\u001b[0m\u001b[1;33m(\u001b[0m\u001b[0mdf\u001b[0m\u001b[1;33m,\u001b[0m \u001b[0mwith_shift\u001b[0m\u001b[1;33m=\u001b[0m\u001b[1;32mTrue\u001b[0m\u001b[1;33m)\u001b[0m\u001b[1;33m\u001b[0m\u001b[1;33m\u001b[0m\u001b[0m\n\u001b[0m",
      "\u001b[1;32m~\\AppData\\Local\\Temp/ipykernel_17444/2473352714.py\u001b[0m in \u001b[0;36mget_all_df\u001b[1;34m(df, with_shift)\u001b[0m\n\u001b[0;32m     12\u001b[0m     \u001b[1;32mif\u001b[0m \u001b[0mwith_shift\u001b[0m\u001b[1;33m:\u001b[0m\u001b[1;33m\u001b[0m\u001b[1;33m\u001b[0m\u001b[0m\n\u001b[0;32m     13\u001b[0m         \u001b[0mreturn_df\u001b[0m \u001b[1;33m=\u001b[0m \u001b[0mget_non_shift_df\u001b[0m\u001b[1;33m(\u001b[0m\u001b[0mreturn_df\u001b[0m\u001b[1;33m,\u001b[0m \u001b[0mget_current_shift\u001b[0m\u001b[1;33m(\u001b[0m\u001b[0mdf\u001b[0m\u001b[1;33m)\u001b[0m\u001b[1;33m)\u001b[0m\u001b[1;33m\u001b[0m\u001b[1;33m\u001b[0m\u001b[0m\n\u001b[1;32m---> 14\u001b[1;33m     \u001b[1;32mreturn\u001b[0m \u001b[0mcheck_valid_photos\u001b[0m\u001b[1;33m(\u001b[0m\u001b[0mreturn_df\u001b[0m\u001b[1;33m)\u001b[0m\u001b[1;33m\u001b[0m\u001b[1;33m\u001b[0m\u001b[0m\n\u001b[0m\u001b[0;32m     15\u001b[0m \u001b[1;33m\u001b[0m\u001b[0m\n\u001b[0;32m     16\u001b[0m \u001b[1;32mdef\u001b[0m \u001b[0mget_non_shift_df\u001b[0m\u001b[1;33m(\u001b[0m\u001b[0mdf\u001b[0m\u001b[1;33m:\u001b[0m\u001b[0mlist\u001b[0m\u001b[1;33m[\u001b[0m\u001b[0mdict\u001b[0m\u001b[1;33m]\u001b[0m\u001b[1;33m,\u001b[0m \u001b[0mdata_shift\u001b[0m\u001b[1;33m:\u001b[0m\u001b[0mlist\u001b[0m\u001b[1;33m[\u001b[0m\u001b[0mdict\u001b[0m\u001b[1;33m]\u001b[0m\u001b[1;33m)\u001b[0m \u001b[1;33m->\u001b[0m \u001b[0mlist\u001b[0m\u001b[1;33m[\u001b[0m\u001b[0mdict\u001b[0m\u001b[1;33m]\u001b[0m\u001b[1;33m:\u001b[0m\u001b[1;33m\u001b[0m\u001b[1;33m\u001b[0m\u001b[0m\n",
      "\u001b[1;32m~\\AppData\\Local\\Temp/ipykernel_17444/2473352714.py\u001b[0m in \u001b[0;36mcheck_valid_photos\u001b[1;34m(df)\u001b[0m\n\u001b[0;32m     42\u001b[0m         \u001b[1;32mexcept\u001b[0m\u001b[1;33m:\u001b[0m\u001b[1;33m\u001b[0m\u001b[1;33m\u001b[0m\u001b[0m\n\u001b[0;32m     43\u001b[0m             \u001b[0mdf\u001b[0m\u001b[1;33m[\u001b[0m\u001b[0mx\u001b[0m\u001b[1;33m]\u001b[0m\u001b[1;33m[\u001b[0m\u001b[1;34m'Nama File'\u001b[0m\u001b[1;33m]\u001b[0m \u001b[1;33m=\u001b[0m \u001b[1;34m'template_photo.jpeg'\u001b[0m\u001b[1;33m\u001b[0m\u001b[1;33m\u001b[0m\u001b[0m\n\u001b[1;32m---> 44\u001b[1;33m     \u001b[1;32mreturn\u001b[0m \u001b[0mget_profile_pics\u001b[0m\u001b[1;33m(\u001b[0m\u001b[0mdf\u001b[0m\u001b[1;33m)\u001b[0m\u001b[1;33m\u001b[0m\u001b[1;33m\u001b[0m\u001b[0m\n\u001b[0m\u001b[0;32m     45\u001b[0m \u001b[1;33m\u001b[0m\u001b[0m\n\u001b[0;32m     46\u001b[0m \u001b[1;32mdef\u001b[0m \u001b[0mget_profile_pics\u001b[0m\u001b[1;33m(\u001b[0m\u001b[0mdf\u001b[0m\u001b[1;33m:\u001b[0m\u001b[0mlist\u001b[0m\u001b[1;33m[\u001b[0m\u001b[0mdict\u001b[0m\u001b[1;33m]\u001b[0m\u001b[1;33m)\u001b[0m \u001b[1;33m->\u001b[0m \u001b[0mlist\u001b[0m\u001b[1;33m:\u001b[0m\u001b[1;33m\u001b[0m\u001b[1;33m\u001b[0m\u001b[0m\n",
      "\u001b[1;32m~\\AppData\\Local\\Temp/ipykernel_17444/2473352714.py\u001b[0m in \u001b[0;36mget_profile_pics\u001b[1;34m(df)\u001b[0m\n\u001b[0;32m     47\u001b[0m     \u001b[1;34m\"\"\"Get profile pics from static/images\"\"\"\u001b[0m\u001b[1;33m\u001b[0m\u001b[1;33m\u001b[0m\u001b[0m\n\u001b[0;32m     48\u001b[0m     \u001b[1;32mfor\u001b[0m \u001b[0mx\u001b[0m\u001b[1;33m,\u001b[0m\u001b[0mdata\u001b[0m \u001b[1;32min\u001b[0m \u001b[0menumerate\u001b[0m\u001b[1;33m(\u001b[0m\u001b[0mdf\u001b[0m\u001b[1;33m)\u001b[0m\u001b[1;33m:\u001b[0m\u001b[1;33m\u001b[0m\u001b[1;33m\u001b[0m\u001b[0m\n\u001b[1;32m---> 49\u001b[1;33m         \u001b[0mdata\u001b[0m\u001b[1;33m:\u001b[0m \u001b[0mstr\u001b[0m \u001b[1;33m=\u001b[0m \u001b[0murl_for\u001b[0m\u001b[1;33m(\u001b[0m\u001b[1;34m'static'\u001b[0m\u001b[1;33m,\u001b[0m \u001b[0mfilename\u001b[0m\u001b[1;33m=\u001b[0m\u001b[1;34m'images/'\u001b[0m \u001b[1;33m+\u001b[0m \u001b[0mdata\u001b[0m\u001b[1;33m[\u001b[0m\u001b[1;34m'Nama File'\u001b[0m\u001b[1;33m]\u001b[0m\u001b[1;33m)\u001b[0m\u001b[1;33m\u001b[0m\u001b[1;33m\u001b[0m\u001b[0m\n\u001b[0m\u001b[0;32m     50\u001b[0m         \u001b[0mdf\u001b[0m\u001b[1;33m[\u001b[0m\u001b[0mx\u001b[0m\u001b[1;33m]\u001b[0m\u001b[1;33m[\u001b[0m\u001b[1;34m'Profpics'\u001b[0m\u001b[1;33m]\u001b[0m \u001b[1;33m=\u001b[0m \u001b[0mdata\u001b[0m\u001b[1;33m\u001b[0m\u001b[1;33m\u001b[0m\u001b[0m\n\u001b[0;32m     51\u001b[0m     \u001b[1;32mreturn\u001b[0m \u001b[0mdf\u001b[0m\u001b[1;33m\u001b[0m\u001b[1;33m\u001b[0m\u001b[0m\n",
      "\u001b[1;31mNameError\u001b[0m: name 'url_for' is not defined"
     ]
    }
   ],
   "source": [
    "df = get_df_excel()\n",
    "df = get_all_df(df, with_shift=True)"
   ]
  },
  {
   "cell_type": "code",
   "execution_count": null,
   "metadata": {},
   "outputs": [
    {
     "data": {
      "text/plain": [
       "[{'Nama': 'Ni Wayan Dertiari',\n",
       "  'Nama File': \"{{url_for('static',filename='images/template_photo.jpeg')}}\",\n",
       "  'NIP': \"'196912241990032001\",\n",
       "  'Shift': 8},\n",
       " {'Nama': 'Diana Siregar',\n",
       "  'Nama File': \"{{url_for('static',filename='images/template_photo.jpeg')}}\",\n",
       "  'NIP': \"'199311112013122001\",\n",
       "  'Shift': 20},\n",
       " {'Nama': 'Rizki Dwi Saputro, S.Tr',\n",
       "  'Nama File': \"{{url_for('static',filename='images/Rizki Dwi Saputro, S.Tr.jpg')}}\",\n",
       "  'NIP': \"'199308272013121001\",\n",
       "  'Shift': 14},\n",
       " {'Nama': 'A. A. Putu Eka Putra Wirawan',\n",
       "  'Nama File': \"{{url_for('static',filename='images/template_photo.jpeg')}}\",\n",
       "  'NIP': \"'198212232006041002\",\n",
       "  'Shift': 14},\n",
       " {'Nama': 'Kd. Diana Anggariati, SP',\n",
       "  'Nama File': \"{{url_for('static',filename='images/template_photo.jpeg')}}\",\n",
       "  'NIP': \"'196705231990032002\",\n",
       "  'Shift': 14},\n",
       " {'Nama': 'I Made Sudarma Yadnya,  S.Si',\n",
       "  'Nama File': \"{{url_for('static',filename='images/template_photo.jpeg')}}\",\n",
       "  'NIP': \"'198103222007011013\",\n",
       "  'Shift': 8}]"
      ]
     },
     "execution_count": 58,
     "metadata": {},
     "output_type": "execute_result"
    }
   ],
   "source": [
    "table"
   ]
  },
  {
   "cell_type": "markdown",
   "metadata": {},
   "source": []
  },
  {
   "cell_type": "code",
   "execution_count": null,
   "metadata": {},
   "outputs": [],
   "source": [
    "from datetime import datetime"
   ]
  },
  {
   "cell_type": "code",
   "execution_count": null,
   "metadata": {},
   "outputs": [],
   "source": [
    "now = datetime.now().strftime('%H:%M:%S')"
   ]
  },
  {
   "cell_type": "code",
   "execution_count": null,
   "metadata": {},
   "outputs": [
    {
     "data": {
      "text/plain": [
       "'02:18:57'"
      ]
     },
     "execution_count": 49,
     "metadata": {},
     "output_type": "execute_result"
    }
   ],
   "source": [
    "now"
   ]
  },
  {
   "cell_type": "code",
   "execution_count": null,
   "metadata": {},
   "outputs": [],
   "source": [
    "IMAGEDIR = PATH / 'static' / 'images'"
   ]
  },
  {
   "cell_type": "code",
   "execution_count": null,
   "metadata": {},
   "outputs": [
    {
     "name": "stdout",
     "output_type": "stream",
     "text": [
      "\n"
     ]
    }
   ],
   "source": [
    "print(*[f for f in IMAGEDIR.glob('Riski Dwi Saputro, S.Tr.*')],sep='\\n')"
   ]
  },
  {
   "cell_type": "code",
   "execution_count": null,
   "metadata": {},
   "outputs": [
    {
     "data": {
      "text/plain": [
       "[WindowsPath('static/images/Rizki Dwi Saputro, S.Tr.jpg')]"
      ]
     },
     "execution_count": 52,
     "metadata": {},
     "output_type": "execute_result"
    }
   ],
   "source": [
    "import glob, os\n",
    "name = 'Rizki Dwi Saputro, S.Tr'\n",
    "\n",
    "list(IMAGEDIR.glob(f'{name}.*'))"
   ]
  }
 ],
 "metadata": {
  "kernelspec": {
   "display_name": "Python 3",
   "language": "python",
   "name": "python3"
  },
  "language_info": {
   "codemirror_mode": {
    "name": "ipython",
    "version": 3
   },
   "file_extension": ".py",
   "mimetype": "text/x-python",
   "name": "python",
   "nbconvert_exporter": "python",
   "pygments_lexer": "ipython3",
   "version": "3.10.7"
  },
  "orig_nbformat": 4
 },
 "nbformat": 4,
 "nbformat_minor": 2
}
